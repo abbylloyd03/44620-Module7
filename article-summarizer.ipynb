{
 "cells": [
  {
   "cell_type": "markdown",
   "metadata": {},
   "source": [
    "# Web Mining and Applied NLP (44-620)\n",
    "\n",
    "## Final Project: Article Summarizer\n",
    "\n",
    "### Student Name: Abby Lloyd\n",
    "### Github Link: https://github.com/abbylloyd03/44620-Module7\n",
    "\n",
    "Perform the tasks described in the Markdown cells below.  When you have completed the assignment make sure your code cells have all been run (and have output beneath them) and ensure you have committed and pushed ALL of your changes to your assignment repository.\n",
    "\n",
    "You should bring in code from previous assignments to help you answer the questions below.\n",
    "\n",
    "Every question that requires you to write code will have a code cell underneath it; you may either write your entire solution in that cell or write it in a python file (`.py`), then import and run the appropriate code to answer the question."
   ]
  },
  {
   "cell_type": "markdown",
   "metadata": {},
   "source": [
    "1. Find on the internet an article or blog post about a topic that interests you and you are able to get the text for using the technologies we have applied in the course.  Get the html for the article and store it in a file (which you must submit with your project)"
   ]
  },
  {
   "cell_type": "markdown",
   "metadata": {},
   "source": [
    "### Question 1: Article html stored in separate file that is committed and pushed"
   ]
  },
  {
   "cell_type": "code",
   "execution_count": 1,
   "metadata": {},
   "outputs": [],
   "source": [
    "import requests\n",
    "import pickle\n",
    "\n",
    "article_page = requests.get('https://www.rottentomatoes.com/m/black_panther_wakanda_forever/reviews')\n",
    "article_html = article_page.text\n",
    "\n",
    "with open('article_html.pkl', 'wb') as f:\n",
    "    pickle.dump(article_page.text, f)"
   ]
  },
  {
   "cell_type": "markdown",
   "metadata": {},
   "source": [
    "2. Read in your article's html source from the file you created in question 1 and do sentiment analysis on the article/post's text (use `.get_text()`).  Print the polarity score with an appropriate label.  Additionally print the number of sentences in the original article (with an appropriate label)"
   ]
  },
  {
   "cell_type": "code",
   "execution_count": 2,
   "metadata": {},
   "outputs": [
    {
     "name": "stdout",
     "output_type": "stream",
     "text": [
      "\n",
      "                    There is indeed a  smattering of the character development. No doubt all abustle, some critics just understandably might’ve missed the transmogrifications. (Hint: Look for someone putting on a mask and another going all hue-y.)\n",
      "                 \n",
      "                    It’s generally well-paced and features an excellent lead performance from Wright and an Oscar-worthy performance from Bassett. For a movie with a complicated hole to dig itself out of, this sequel rises victorious.\n",
      "                 \n",
      "                    Kind of a mixed bag, but worth seeing if you liked the first one. \n",
      "                 \n",
      "                    This film, leading into phase five, makes it as symbolic as it is impactful. It expands the MCU’s diversity through sheer authenticity.\n",
      "                 \n",
      "                    Like the first Black Panther movie, Black Panther: Wakanda Forever asks us to consider why and when vengeance is futile, and what the difference is between an antihero and an anti villain.\n",
      "                 \n",
      "                    Not only is it a powerful tribute to a star whose screen presence could never be duplicated; it also points the way forward for Marvel, positing a future where the formula can be bent in directions that don't always dutifully fill a mold...\n",
      "                 \n",
      "                    Wakanda Forever is best as a love letter to a fallen friend, and as a kind of conduit for public grief.\n",
      "                 \n",
      "                    In the end, Wakanda Forever is about a choice. Do you rage? Or do you accept and let go. Saying farewell without forgetting.  Moving on.  That Coogler managed to embed that in a Marvel movie is a minor miracle and fitting tribute to the talent we lost. \n",
      "                 \n",
      "                    While suffering from exhausting connections to the ever-expanding Marvel Cinematic Universe, Black Panther: Wakanda Forever is an emotional tribute to Chadwick Boseman, with an exploration of grief easily capable of reaching the audience’s heart. \n",
      "                 \n",
      "                    A palpable low point for the Marvel Cinematic Universe...\n",
      "                 \n",
      "                    Finally breaking the tyranny of the superhero blockbuster structure, filmmaker Ryan Coogler makes an unusually affecting sequel that takes a darker and far more emotional approach to storytelling.\n",
      "                 \n",
      "                    You may not be ready for everything that Black Panther is going to throw at you. It is unapologetically Black, African, colorful, and poignant.\n",
      "                 \n",
      "                    ...the positive side, the performances are strong and the visual effects are outstanding.  But great effects do not always a great movie make (I’m looking at you, “Avatar”) and the humanity that Boseman brought to the title character is greatly missed.  \n",
      "                 \n",
      "                    his film could have been tone-deaf or insensitive. It could have simply not existed at all. The fact that it does exist and is a solid cinematic experience is, on its face, fairly miraculous.\n",
      "                 \n",
      "                    Overall, the film is solid with a few passages worth going to the theater for. [Full review in Spanish] \n",
      "                 \n",
      "                    Angela Bassett and Letitia Wright are stand outs as audiences can feel the pain they are going through from losing their beloved star and friend.\n",
      "                 \n",
      "                    Feels overstuffed, filled with interesting ideas and possibilities that never fully come into focus. \n",
      "                 \n",
      "                    You can still see the bones of the original concept, poking jaggedly through the flesh of the story, and meshing not at all with the new material about grieving and coming to grips with loss.\n",
      "                 \n",
      "                    This is a great film that does have it's flaws, specifically its length. This was a heavy film that has a lot of deep meaning and themes that might go over the general audience's head. The performances and costumes were fantastic. \n",
      "                 \n",
      "                    The movie is very solid despite being 20 minutes too long. Namor was a fantastic villain/anti-hero. The costume designs were incredible as were the performances, particularly Letitia Wright and Angela Bassett. The latter should absolutely be nominated!\n",
      "                \n"
     ]
    }
   ],
   "source": [
    "from bs4 import BeautifulSoup\n",
    "\n",
    "with open('article_html.pkl', 'rb') as f:\n",
    "    article_html = pickle.load(f)\n",
    "\n",
    "soup = BeautifulSoup(article_html, 'html5lib')\n",
    "\n",
    "# Find the reviews from the article. (This is the only part of the article I am interested in.)\n",
    "\n",
    "article_content = soup.find_all('div', {'class': 'the_review'})\n",
    "\n",
    "# Combine all the reviews into one string and get rid of tags\n",
    "\n",
    "article_content_string = ' '.join([item.text for item in article_content])\n",
    "\n",
    "# Check work\n",
    "\n",
    "print(article_content_string)"
   ]
  },
  {
   "cell_type": "markdown",
   "metadata": {},
   "source": [
    "### Question 2: Polarity score printed with an appropriate label"
   ]
  },
  {
   "cell_type": "code",
   "execution_count": 3,
   "metadata": {},
   "outputs": [
    {
     "name": "stdout",
     "output_type": "stream",
     "text": [
      "Polarity: 0.17901714513556624\n"
     ]
    }
   ],
   "source": [
    "# Sentiment analysis\n",
    "\n",
    "import spacy\n",
    "from spacytextblob.spacytextblob import SpacyTextBlob\n",
    "\n",
    "nlp = spacy.load('en_core_web_sm')\n",
    "nlp.add_pipe('spacytextblob')\n",
    "doc = nlp(article_content_string)\n",
    "print(f'Polarity: {doc._.polarity}')"
   ]
  },
  {
   "cell_type": "markdown",
   "metadata": {},
   "source": [
    "### Question 2: Number of sentences printed"
   ]
  },
  {
   "cell_type": "code",
   "execution_count": 4,
   "metadata": {},
   "outputs": [
    {
     "name": "stdout",
     "output_type": "stream",
     "text": [
      "Number of sentences: 39\n"
     ]
    }
   ],
   "source": [
    "# Find number of sentences\n",
    "\n",
    "sentences = list(doc.sents)\n",
    "sentences_no_blanks = [str(x).strip() for x in sentences if str(x) != '']\n",
    "num_of_sents = len(sentences_no_blanks)\n",
    "print('Number of sentences:', num_of_sents)"
   ]
  },
  {
   "cell_type": "markdown",
   "metadata": {},
   "source": [
    "3. Load the article text into a trained `spaCy` pipeline, and determine the 5 most frequent tokens (converted to lower case).  Print the common tokens with an appropriate label.  Additionally, print the tokens their frequencies (with appropriate labels)"
   ]
  },
  {
   "cell_type": "markdown",
   "metadata": {},
   "source": [
    "### Question 3: Correct (or equivalent in the case of multiple tokens with same frequency) tokens printed: 1 pt"
   ]
  },
  {
   "cell_type": "code",
   "execution_count": 5,
   "metadata": {},
   "outputs": [
    {
     "name": "stdout",
     "output_type": "stream",
     "text": [
      "Five most frequent tokens: [('movie', 5), ('film', 5), ('black', 5), ('going', 4), ('panther', 4)]\n"
     ]
    }
   ],
   "source": [
    "import spacy\n",
    "from collections import Counter\n",
    "\n",
    "nlp = spacy.load('en_core_web_sm')\n",
    "\n",
    "# Add the movie title and other words I am not interested into the list of stop words\n",
    "# nlp.Defaults.stop_words |= {'black', 'panther', 'wakanda', 'forever', 'movie', 'film'}\n",
    "# I didn't like the summary, so I went back to the original stop words\n",
    "\n",
    "\n",
    "doc = nlp(article_content_string)\n",
    "\n",
    "\n",
    "# Remove whitespace, punctuation, and stopword tokens\n",
    "# Convert all letters to lowercase\n",
    "\n",
    "def we_care_about(token):\n",
    "    return not (token.is_space or token.is_punct or token.is_stop)\n",
    "\n",
    "interesting_tokens = [token.lower_ for token in doc if we_care_about(token)]\n",
    "\n",
    "# Count & print token frequency\n",
    "\n",
    "word_freq = Counter(map(str,interesting_tokens))\n",
    "print('Five most frequent tokens:', word_freq.most_common(5))"
   ]
  },
  {
   "cell_type": "markdown",
   "metadata": {},
   "source": [
    "4. Load the article text into a trained `spaCy` pipeline, and determine the 5 most frequent lemmas (converted to lower case).  Print the common lemmas with an appropriate label.  Additionally, print the lemmas with their frequencies (with appropriate labels)."
   ]
  },
  {
   "cell_type": "markdown",
   "metadata": {},
   "source": [
    "### Question 4: Correct (or equivalent in the case of multiple lemmas with same frequency) lemmas printed"
   ]
  },
  {
   "cell_type": "code",
   "execution_count": 6,
   "metadata": {},
   "outputs": [
    {
     "name": "stdout",
     "output_type": "stream",
     "text": [
      "Five most frequent lemmas: [('performance', 5), ('movie', 5), ('film', 5), ('black', 5), ('go', 4)]\n"
     ]
    }
   ],
   "source": [
    "# Lemmatization\n",
    "# Convert all letters to lowercase\n",
    "\n",
    "interesting_lemmas = [token.lemma_.lower() for token in doc if we_care_about(token)]\n",
    "\n",
    "# Count & print lemma frequency\n",
    "\n",
    "lemma_freq = Counter(interesting_lemmas)\n",
    "print('Five most frequent lemmas:', lemma_freq.most_common(5))"
   ]
  },
  {
   "cell_type": "markdown",
   "metadata": {},
   "source": [
    "5. Make a list containing the scores (using tokens) of every sentence in the article, and plot a histogram with appropriate titles and axis labels of the scores. From your histogram, what seems to be the most common range of scores (put the answer in a comment after your code)?"
   ]
  },
  {
   "cell_type": "markdown",
   "metadata": {},
   "source": [
    "### Question 5: Histogram shown with appropriate labelling"
   ]
  },
  {
   "cell_type": "code",
   "execution_count": 14,
   "metadata": {},
   "outputs": [
    {
     "data": {
      "text/plain": [
       "[<matplotlib.axis.XTick at 0x7fd2c96ae8f0>,\n",
       " <matplotlib.axis.XTick at 0x7fd2c96aea10>,\n",
       " <matplotlib.axis.XTick at 0x7fd2c96af6d0>,\n",
       " <matplotlib.axis.XTick at 0x7fd2c7bc3eb0>,\n",
       " <matplotlib.axis.XTick at 0x7fd2c9b533a0>,\n",
       " <matplotlib.axis.XTick at 0x7fd2c9b53e80>]"
      ]
     },
     "execution_count": 14,
     "metadata": {},
     "output_type": "execute_result"
    },
    {
     "data": {
      "image/png": "[encoded data removed]",
      "text/plain": [
       "<Figure size 1000x700 with 1 Axes>"
      ]
     },
     "metadata": {},
     "output_type": "display_data"
    }
   ],
   "source": [
    "import matplotlib as mpl\n",
    "import matplotlib.pyplot as plt\n",
    "import numpy as np\n",
    "\n",
    "# Make a list of token counts per sentence (x) for histogram\n",
    "\n",
    "def score_sentence_by_token_for_histogram(sentences, interesting_token):\n",
    "    list = []\n",
    "    unpacked_tokens = set()\n",
    "    for token, freq in interesting_token:\n",
    "        unpacked_tokens.add(token)\n",
    "    for sentence in sentences:\n",
    "        count = 0\n",
    "        for token in sentence:\n",
    "            if token.lower_ in unpacked_tokens:\n",
    "                count += 1\n",
    "        list.append(count)\n",
    "    return list\n",
    "\n",
    "x = score_sentence_by_token_for_histogram(sentences, word_freq.most_common(5))\n",
    "\n",
    "# Create plot\n",
    "\n",
    "fig, ax = plt.subplots(figsize =(10, 7))\n",
    "n_bins = max(x)\n",
    "ax.hist(x, n_bins)\n",
    "\n",
    "# Set title\n",
    "ax.set_title(\"Frequencies of interesting tokens in sentences.\")\n",
    "  \n",
    "# adding labels\n",
    "ax.set_xlabel('Number of interesting tokens in sentence')\n",
    "ax.set_ylabel('Frequency')\n",
    "ax.set_xticks([0, 1, 2, 3, 4, 5])"
   ]
  },
  {
   "cell_type": "markdown",
   "metadata": {},
   "source": [
    "### What seems to be the most common range of scores: 0-1"
   ]
  },
  {
   "cell_type": "markdown",
   "metadata": {},
   "source": [
    "6. Make a list containing the scores (using lemmas) of every sentence in the article, and plot a histogram with appropriate titles and axis labels of the scores.  From your histogram, what seems to be the most common range of scores (put the answer in a comment after your code)?"
   ]
  },
  {
   "cell_type": "markdown",
   "metadata": {},
   "source": [
    "### Question 6: Histogram shown with appropriate labelling"
   ]
  },
  {
   "cell_type": "code",
   "execution_count": 8,
   "metadata": {},
   "outputs": [
    {
     "data": {
      "text/plain": [
       "[<matplotlib.axis.XTick at 0x7fd2c7a6d930>,\n",
       " <matplotlib.axis.XTick at 0x7fd2c7a6d900>,\n",
       " <matplotlib.axis.XTick at 0x7fd2c7a6c5e0>,\n",
       " <matplotlib.axis.XTick at 0x7fd2c7a46560>,\n",
       " <matplotlib.axis.XTick at 0x7fd2c7a469e0>]"
      ]
     },
     "execution_count": 8,
     "metadata": {},
     "output_type": "execute_result"
    },
    {
     "data": {
      "image/png": "[encoded data removed]",
      "text/plain": [
       "<Figure size 1000x700 with 1 Axes>"
      ]
     },
     "metadata": {},
     "output_type": "display_data"
    }
   ],
   "source": [
    "# Make a list of lemma counts per sentence (x) for histogram\n",
    "\n",
    "def score_sentence_by_lemma_for_histogram(sentences, interesting_lemmas):\n",
    "    list = []\n",
    "    unpacked_lemmas = set()\n",
    "    for lemma, freq in interesting_lemmas:\n",
    "        unpacked_lemmas.add(lemma)\n",
    "    for sentence in sentences:\n",
    "        count = 0\n",
    "        for token in sentence:\n",
    "            if token.lemma_.lower() in unpacked_lemmas:\n",
    "                count += 1\n",
    "        list.append(count)\n",
    "    return list\n",
    "\n",
    "\n",
    "x = score_sentence_by_lemma_for_histogram(sentences, lemma_freq.most_common(5))\n",
    "\n",
    "# Create plot\n",
    "\n",
    "fig, ax = plt.subplots(figsize =(10, 7))\n",
    "n_bins = max(x)\n",
    "ax.hist(x, n_bins)\n",
    "\n",
    "# Set title\n",
    "ax.set_title(\"Frequencies of interesting lemmas in sentences.\")\n",
    "  \n",
    "# adding labels\n",
    "ax.set_xlabel('Number of interesting lemmas in sentence')\n",
    "ax.set_ylabel('Frequency')\n",
    "ax.set_xticks([0, 1, 2, 3, 4])"
   ]
  },
  {
   "cell_type": "markdown",
   "metadata": {},
   "source": [
    "### What seems to be the most common range of scores: 0-1"
   ]
  },
  {
   "cell_type": "markdown",
   "metadata": {},
   "source": [
    "### Question 7: Cutoff score seems appropriate given histograms"
   ]
  },
  {
   "cell_type": "markdown",
   "metadata": {},
   "source": [
    "7. Using the histograms from questions 5 and 6, decide a \"cutoff\" score for tokens and lemmas such that fewer than half the sentences would have a score greater than the cutoff score.  Record the scores in this Markdown cell\n",
    "\n",
    "#### Cutoff Score (tokens): 1 (This did not give me 6 sentences. However, I think it is the best solution, because when I lowered the cutoff I got too many sentences.)\n",
    "#### Cutoff Score (lemmas): 1\n",
    "\n",
    "Feel free to change these scores as you generate your summaries.  Ideally, we're shooting for at least 6 sentences for our summary, but don't want more than 10 (these numbers are rough estimates; they depend on the length of your article)."
   ]
  },
  {
   "cell_type": "markdown",
   "metadata": {},
   "source": [
    "8. Create a summary of the article by going through every sentence in the article and adding it to an (initially) empty list if its score (based on tokens) is greater than the cutoff score you identified in question 8.  If your loop variable is named `sent`, you may find it easier to add `sent.text.strip()` to your list of sentences.  Print the summary (I would cleanly generate the summary text by `join`ing the strings in your list together with a space (`' '.join(sentence_list)`)."
   ]
  },
  {
   "cell_type": "markdown",
   "metadata": {},
   "source": [
    "### Question 8: Summary contains a shortened version of the article (less than half the number of sentences)\n",
    "### Question 8: Summary sentences are in the same order as they appeared in the original article"
   ]
  },
  {
   "cell_type": "code",
   "execution_count": 9,
   "metadata": {},
   "outputs": [
    {
     "name": "stdout",
     "output_type": "stream",
     "text": [
      "Number of sentences in summary: 4\n",
      "Like the first Black Panther movie, Black Panther: Wakanda Forever asks us to consider why and when vengeance is futile, and what the difference is between an antihero and an anti villain. While suffering from exhausting connections to the ever-expanding Marvel Cinematic Universe, Black Panther: You may not be ready for everything that Black Panther is going to throw at you. Overall, the film is solid with a few passages worth going to the theater for.\n"
     ]
    }
   ],
   "source": [
    "def sents_with_more_than_one_token(sentences, interesting_token):\n",
    "    unpacked_tokens = set()\n",
    "    for token, freq in interesting_token:\n",
    "        unpacked_tokens.add(token)\n",
    "    \n",
    "    list = []\n",
    "    for sentence in sentences:\n",
    "        count = 0\n",
    "        for token in sentence:\n",
    "            if token.lower_ in unpacked_tokens:\n",
    "                count += 1\n",
    "        if count > 1: \n",
    "            list.append(sentence)\n",
    "    return list\n",
    "\n",
    "sents = sents_with_more_than_one_token(sentences, word_freq.most_common(5))\n",
    "print(\"Number of sentences in summary:\", len(sents))\n",
    "\n",
    "# Remove white space\n",
    "sentences_no_blanks2 = [''.join(str(x).strip()) for x in sents if str(x) != '']\n",
    "\n",
    "# That did not remove all white space, so trying something more.\n",
    "white_space_removed = []\n",
    "for sent in sentences_no_blanks2:\n",
    "    white_space_removed.append(sent.replace(\"\\n\", \"\"))\n",
    "\n",
    "final_summary_token = ' '.join(str(x) for x in white_space_removed)\n",
    "        \n",
    "print(final_summary_token)"
   ]
  },
  {
   "cell_type": "markdown",
   "metadata": {},
   "source": [
    "9. Print the polarity score of your summary you generated with the token scores (with an appropriate label). Additionally, print the number of sentences in the summarized article."
   ]
  },
  {
   "cell_type": "markdown",
   "metadata": {},
   "source": [
    "### Question 9: Polarity score printed with an appropriate label"
   ]
  },
  {
   "cell_type": "code",
   "execution_count": 10,
   "metadata": {},
   "outputs": [
    {
     "name": "stdout",
     "output_type": "stream",
     "text": [
      "Polarity: -0.04305555555555555\n"
     ]
    }
   ],
   "source": [
    "# Sentiment analysis\n",
    "\n",
    "nlp = spacy.load('en_core_web_sm')\n",
    "nlp.add_pipe('spacytextblob')\n",
    "doc = nlp(final_summary_token)\n",
    "print(f'Polarity: {doc._.polarity}')"
   ]
  },
  {
   "cell_type": "markdown",
   "metadata": {},
   "source": [
    "### Question 9: Number of sentences printed"
   ]
  },
  {
   "cell_type": "code",
   "execution_count": 15,
   "metadata": {},
   "outputs": [
    {
     "name": "stdout",
     "output_type": "stream",
     "text": [
      "Number of sentences in summary: 4\n"
     ]
    }
   ],
   "source": [
    "print(\"Number of sentences in summary:\", len(sents))"
   ]
  },
  {
   "cell_type": "markdown",
   "metadata": {},
   "source": [
    "10. Create a summary of the article by going through every sentence in the article and adding it to an (initially) empty list if its score (based on lemmas) is greater than the cutoff score you identified in question 8.  If your loop variable is named `sent`, you may find it easier to add `sent.text.strip()` to your list of sentences.  Print the summary (I would cleanly generate the summary text by `join`ing the strings in your list together with a space (`' '.join(sentence_list)`)."
   ]
  },
  {
   "cell_type": "markdown",
   "metadata": {},
   "source": [
    "### Question 10: Summary contains a shortened version of the article (less than half the number of sentences)\n",
    "### Question 10: Summary sentences are in the same order as they appeared in the original article"
   ]
  },
  {
   "cell_type": "code",
   "execution_count": 11,
   "metadata": {},
   "outputs": [
    {
     "name": "stdout",
     "output_type": "stream",
     "text": [
      "Number of sentences in summary: 6\n",
      "It’s generally well-paced and features an excellent lead performance from Wright and an Oscar-worthy performance from Bassett. Like the first Black Panther movie, Black Panther: Wakanda Forever asks us to consider why and when vengeance is futile, and what the difference is between an antihero and an anti villain. You may not be ready for everything that Black Panther is going to throw at you. It is unapologetically Black, African, colorful, and poignant.                                     ...the positive side, the performances are strong and the visual effects are outstanding. Overall, the film is solid with a few passages worth going to the theater for. This was a heavy film that has a lot of deep meaning and themes that might go over the general audience's head.\n"
     ]
    }
   ],
   "source": [
    "def sents_with_more_than_one_lemma(sentences, interesting_lemmas):\n",
    "    unpacked_lemmas = set()\n",
    "    for lemma, freq in interesting_lemmas:\n",
    "        unpacked_lemmas.add(lemma)\n",
    "    \n",
    "    list = []\n",
    "    for sentence in sentences:\n",
    "        count = 0\n",
    "        for token in sentence:\n",
    "            if token.lemma_.lower() in unpacked_lemmas:\n",
    "                count += 1\n",
    "        if count > 1: \n",
    "            list.append(sentence)\n",
    "    return list\n",
    "\n",
    "sents_lemma = sents_with_more_than_one_lemma(sentences, lemma_freq.most_common(5))\n",
    "print(\"Number of sentences in summary:\", len(sents_lemma))\n",
    "\n",
    "# Remove white space\n",
    "sentences_no_blanks_lemmas = [''.join(str(x).strip()) for x in sents_lemma if str(x) != '']\n",
    "\n",
    "\n",
    "# That did not remove all white space, so trying something more.\n",
    "white_space_removed_lemmas = []\n",
    "for sent in sentences_no_blanks_lemmas:\n",
    "    white_space_removed_lemmas.append(sent.replace(\"\\n\", \"\"))\n",
    "\n",
    "final_summary_lemmas = ' '.join(str(x) for x in white_space_removed_lemmas)\n",
    "\n",
    "print(final_summary_lemmas)\n",
    "        "
   ]
  },
  {
   "cell_type": "markdown",
   "metadata": {},
   "source": [
    "11. Print the polarity score of your summary you generated with the lemma scores (with an appropriate label). Additionally, print the number of sentences in the summarized article."
   ]
  },
  {
   "cell_type": "markdown",
   "metadata": {},
   "source": [
    "### Question 11: Polarity score printed with an appropriate label"
   ]
  },
  {
   "cell_type": "code",
   "execution_count": 16,
   "metadata": {},
   "outputs": [
    {
     "name": "stdout",
     "output_type": "stream",
     "text": [
      "Polarity: 0.10199724517906333\n"
     ]
    }
   ],
   "source": [
    "# Sentiment analysis\n",
    "\n",
    "nlp = spacy.load('en_core_web_sm')\n",
    "nlp.add_pipe('spacytextblob')\n",
    "doc = nlp(final_summary_lemmas)\n",
    "print(f'Polarity: {doc._.polarity}')"
   ]
  },
  {
   "cell_type": "markdown",
   "metadata": {},
   "source": [
    "### Question 11: Number of sentences printed"
   ]
  },
  {
   "cell_type": "code",
   "execution_count": 17,
   "metadata": {},
   "outputs": [
    {
     "name": "stdout",
     "output_type": "stream",
     "text": [
      "Number of sentences in summary: 6\n"
     ]
    }
   ],
   "source": [
    "print(\"Number of sentences in summary:\", len(sents_lemma))"
   ]
  },
  {
   "cell_type": "markdown",
   "metadata": {},
   "source": [
    "12.  Compare your polarity scores of your summaries to the polarity scores of the initial article.  Is there a difference?  Why do you think that may or may not be?.  Answer in this Markdown cell.  "
   ]
  },
  {
   "cell_type": "markdown",
   "metadata": {},
   "source": [
    "### Question 12: Thoughtful answer based on reported polarity scores"
   ]
  },
  {
   "cell_type": "markdown",
   "metadata": {},
   "source": [
    "#### Polarity score of original article:\n",
    "- Polarity: 0.17901714513556624\n",
    "\n",
    "#### Polarity score of summary using tokens:\n",
    "- Polarity: -0.04305555555555555\n",
    "\n",
    "#### Polarity score of summary using lemmas:\n",
    "- Polarity: 0.10199724517906333\n",
    "\n",
    "#### Discussion\n",
    "- The summary developed using tokens had a negative polarity, while the summary developed using lemmas had a positive polarity. The original article had the most positive polarity.\n",
    "- The list of interesting lemmas included the word 'performance'. This was not included in the list of interesting tokens. This changed some of the sentences that were included in the summary developed using lemmas. Many of the reviewers that posted to the web page agreed that the performances in the movie were positive, and I think that is reflected in the summary developed using lemmas."
   ]
  },
  {
   "cell_type": "markdown",
   "metadata": {},
   "source": [
    "13. Based on your reading of the original article, which summary do you think is better (if there's a difference).  Why do you think this might be?"
   ]
  },
  {
   "cell_type": "markdown",
   "metadata": {},
   "source": [
    "### Question 13: Thoughtful answer based on summaries"
   ]
  },
  {
   "cell_type": "markdown",
   "metadata": {},
   "source": [
    "#### Which summary is better?\n",
    "- The summary developed using lemmas is better than the summary developed using tokens\n",
    "\n",
    "#### Why do you think this might be?\n",
    "\n",
    "- In my opinion, I believe the summary developed using interesting lemmas was more characteristic of the original article. \n",
    "- The summary developed using tokens was more negative than the overall character of the original article. This negativity is displayed with the negative polarity score that was produced when I did sentiment analysis of that summary. \n",
    "- The summary developed using lemmas was more positive and it touched on some of the more common ideas that showed up multiple times by different reviewers. \n",
    "- Also, the polarity score for this second summary was positive and closer to the polarity score for the entire article as a whole.\n",
    "- The summary created using lemmas was also longer and provided more info. I think this gave a better idea of what the movie is like as a whole."
   ]
  }
 ],
 "metadata": {
  "kernelspec": {
   "display_name": "Python 3 (ipykernel)",
   "language": "python",
   "name": "python3"
  },
  "language_info": {
   "codemirror_mode": {
    "name": "ipython",
    "version": 3
   },
   "file_extension": ".py",
   "mimetype": "text/x-python",
   "name": "python",
   "nbconvert_exporter": "python",
   "pygments_lexer": "ipython3",
   "version": "3.10.6"
  }
 },
 "nbformat": 4,
 "nbformat_minor": 4
}
